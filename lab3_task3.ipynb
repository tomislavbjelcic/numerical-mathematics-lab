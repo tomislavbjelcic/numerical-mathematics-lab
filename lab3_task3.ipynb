{
 "cells": [
  {
   "cell_type": "markdown",
   "metadata": {},
   "source": [
    "# 3. Laboratorijske vježbe iz Numeričke matematike- zad 3"
   ]
  },
  {
   "attachments": {},
   "cell_type": "markdown",
   "metadata": {},
   "source": [
    "Ime i prezime: *Tomislav Bjelčić*"
   ]
  },
  {
   "cell_type": "markdown",
   "metadata": {},
   "source": [
    "a) Želimo odrediti godinu $\\hat t$ u kojoj će ukupan broj ljudi na Zemlji prijeći 9.5 milijardi.  Populacija se računa prema Verhulstovom modelu\n",
    "$$f(t)=\\frac{a}{1-ce^{-dt}}$$\n",
    "pri čemu su dani paramteri:\n",
    "$$a=9.9606,\\quad c=-1.1085\\cdot 10^{25},\\quad d=0.029.$$\n",
    "(vrijednost $f(t)$ računa se u milijardama). Zadatak formulirajte u obliku nelinearne jednadžbe koju treba riješiti i nacrtajte funkciju čiju nultočku tražite na intervalu $[1950, 2200]$"
   ]
  },
  {
   "cell_type": "code",
   "execution_count": 1,
   "metadata": {},
   "outputs": [],
   "source": [
    "import numpy as np\n",
    "import matplotlib.pyplot as plt\n",
    "plt.rcParamsDefault[\"figure.figsize\"] = (8, 6)\n",
    "plt.rcParamsDefault[\"figure.dpi\"] = 100\n",
    "plt.rcParams[\"figure.figsize\"] = plt.rcParamsDefault[\"figure.figsize\"]\n",
    "plt.rcParams[\"figure.dpi\"] = plt.rcParamsDefault[\"figure.dpi\"]\n"
   ]
  },
  {
   "cell_type": "code",
   "execution_count": 2,
   "metadata": {},
   "outputs": [
    {
     "data": {
      "image/png": "[encoded data removed]",
      "text/plain": [
       "<Figure size 800x600 with 1 Axes>"
      ]
     },
     "metadata": {
      "needs_background": "light"
     },
     "output_type": "display_data"
    }
   ],
   "source": [
    "# Ovdje ide graf funkcije i jedna Markdown linija u kojoj ćete zapisati svoju nelinearnu jednadžbu\n",
    "\n",
    "def g(t, a=9.9606, c=-1.1085e25, d=0.029, val=9.5):\n",
    "    return a/(1 - c*np.exp(-d*t)) - val\n",
    "\n",
    "\n",
    "t_domain = np.linspace(start=1950, stop=2200, num=1000, endpoint=True)\n",
    "\n",
    "plt.plot(t_domain, g(t_domain), label=\"$g (t)$\")\n",
    "plt.axhline(y=0.0, color='r', linestyle='-', linewidth=0.8)\n",
    "plt.legend(loc=\"best\")\n",
    "plt.show()\n"
   ]
  },
  {
   "attachments": {},
   "cell_type": "markdown",
   "metadata": {},
   "source": [
    "Na intervalu $[1950, 2200]$ potrebno je pronaći nultočku funkcije\n",
    "$$g(t) = \\frac{a}{1 - ce^{-dt}} - 9.5$$\n",
    "odnosno riješiti nelinearnu jednadžbu\n",
    "$$\\frac{a}{1 - ce^{-d \\hat{t}}} - 9.5 = 0$$"
   ]
  },
  {
   "cell_type": "markdown",
   "metadata": {},
   "source": [
    "b) Napišite  sada kako glasi iterativni postupak za danu funkciju ako koristite metodu sekante."
   ]
  },
  {
   "attachments": {},
   "cell_type": "markdown",
   "metadata": {},
   "source": [
    "Ako se koristi metoda sekante, tada se sljedeća iteracija $t_{n+1}$ računa pomoću prethodne dvije iteracije $t_n$, $t_{n-1}$ te njihove vrijednosti funkcije na sljedeći način:\n",
    "$$t_{n+1} = t_n - g(t_n) \\frac{t_n - t_{n-1}}{g(t_n) - g(t_{n-1})}$$\n",
    "Početne dvije iteracije $t_0$ i $t_1$ moraju biti zadane."
   ]
  },
  {
   "cell_type": "markdown",
   "metadata": {},
   "source": [
    "c) Implementirajte metodu sekante koja uzima dvije početne iteracije (za jednu od početnih iteracija uzmite $t_0=1974$, a drugu po izboru). Kao uvjet zaustavljanja možete postaviti neki od sljedećih uvjeta: $|f(x_n)|\\leq \\varepsilon_1$, $|x_{n+1}-x_n|\\leq \\varepsilon_2$ ili određeni maksimalni broj iteracija, ako nije neki od prethodna 2 uvjeta zadovoljen. Napišite nekoliko vrijednosti niza $x_n$. Za provjeru, ispišite vrijednost funkcije u izračunatoj nultočki."
   ]
  },
  {
   "cell_type": "code",
   "execution_count": 3,
   "metadata": {},
   "outputs": [
    {
     "name": "stdout",
     "output_type": "stream",
     "text": [
      "t = 2092.901798797497\n",
      "g(t) = 0.0\n",
      "Broj iteracija = 12\n",
      "Niz iteracija = [2139.0292645144063, 2030.1253572863384, 2122.193409651607, 2110.830759622988, 2083.959939569079, 2095.0873605913775, 2093.149382989618, 2092.8945857974995, 2092.901822327204, 2092.9017987997304, 2092.901798797497, 2092.901798797497]\n"
     ]
    }
   ],
   "source": [
    "# Ovdje ide implementacija\n",
    "\n",
    "def secant_method(f, x0, x1, max_iter=100, termination_tolerance=1e-12, ret_iteration_sequence=False):\n",
    "    x_n = x1\n",
    "    x_nm1 = x0\n",
    "    x_np1 = None\n",
    "    f_x_n = f(x1)\n",
    "    f_x_nm1 = f(x0)\n",
    "    seq = [] if ret_iteration_sequence else None\n",
    "    \n",
    "    for i in range(1, max_iter+1):\n",
    "        x_np1 = x_n - f_x_n * (x_n - x_nm1) / (f_x_n - f_x_nm1)\n",
    "        if ret_iteration_sequence:\n",
    "            seq.append(x_np1)\n",
    "        \n",
    "        # zaustavni kriterij: duljina koraka manja od tolerancije\n",
    "        if np.abs(x_np1 - x_n) <= termination_tolerance:\n",
    "            return x_n, i, seq\n",
    "        f_x_np1 = f(x_np1)\n",
    "        x_n, x_nm1, f_x_n, f_x_nm1 = x_np1, x_n, f_x_np1, f_x_n\n",
    "    return x_np1, max_iter, seq\n",
    "\n",
    "t0 = 1974\n",
    "t1 = 2150\n",
    "t_zero, iters, sequence = secant_method(g, x0=t0, x1=t1, ret_iteration_sequence=True)\n",
    "g_t_zero = g(t_zero)\n",
    "print(f\"t = {t_zero}\\ng(t) = {g_t_zero}\\nBroj iteracija = {iters}\\nNiz iteracija = {sequence}\")\n",
    "\n",
    "\n"
   ]
  },
  {
   "cell_type": "markdown",
   "metadata": {},
   "source": [
    "d) Dobivenu nultočku usporedite s onom koju dobijete nekom ugrađenom metodom [link](https://docs.scipy.org/doc/scipy/reference/generated/scipy.optimize.root_scalar.html#scipy.optimize.root_scalar). Odaberite metodu po izboru od onih koje smo obradili na predavanjima."
   ]
  },
  {
   "cell_type": "code",
   "execution_count": 4,
   "metadata": {},
   "outputs": [
    {
     "name": "stdout",
     "output_type": "stream",
     "text": [
      "Newtonova metoda\n",
      "Broj iteracija: 7\n",
      "Nultočka: 2092.901798797497\n",
      "Iznos funkcije: 0.0\n",
      "Razlika u funkcijskim vrijednostima: 0.0\n",
      "Bolje rješenje? NE\n",
      "\n",
      "\n",
      "\n",
      "Metoda bisekcije\n",
      "Broj iteracija: 46\n",
      "Nultočka: 2092.9017987974994\n",
      "Iznos funkcije: 2.842170943040401e-14\n",
      "Razlika u funkcijskim vrijednostima: 2.842170943040401e-14\n",
      "Bolje rješenje? NE\n",
      "\n",
      "\n",
      "\n",
      "Metoda sekante (scipy implementacija)\n",
      "Broj iteracija: 11\n",
      "Nultočka: 2092.901798797497\n",
      "Iznos funkcije: 0.0\n",
      "Razlika u funkcijskim vrijednostima: 0.0\n",
      "Bolje rješenje? NE\n",
      "\n",
      "\n",
      "\n"
     ]
    }
   ],
   "source": [
    "#kod\n",
    "import scipy\n",
    "from scipy.optimize import root_scalar\n",
    "\n",
    "def gprime(t, a=9.9606, c=-1.1085e25, d=0.029):\n",
    "    cedt = c * np.exp(-d*t)\n",
    "    return -a*d*cedt / np.square(1 - cedt)\n",
    "\n",
    "\n",
    "\n",
    "root_result = root_scalar(g, method=\"newton\", x0=t0, fprime=gprime)\n",
    "gval = g(root_result.root)\n",
    "better = \"DA\" if gval<g_t_zero else \"NE\"\n",
    "print(\"Newtonova metoda\")\n",
    "print(f\"Broj iteracija: {root_result.iterations}\")\n",
    "print(f\"Nultočka: {root_result.root}\")\n",
    "print(f\"Iznos funkcije: {gval}\")\n",
    "print(f\"Razlika u funkcijskim vrijednostima: {np.abs(gval - g_t_zero)}\")\n",
    "print(f\"Bolje rješenje? {better}\")\n",
    "print(\"\\n\\n\")\n",
    "\n",
    "root_result = root_scalar(g, method=\"bisect\", bracket=[1950, 2200])\n",
    "gval = g(root_result.root)\n",
    "better = \"DA\" if gval<g_t_zero else \"NE\"\n",
    "print(\"Metoda bisekcije\")\n",
    "print(f\"Broj iteracija: {root_result.iterations}\")\n",
    "print(f\"Nultočka: {root_result.root}\")\n",
    "print(f\"Iznos funkcije: {gval}\")\n",
    "print(f\"Razlika u funkcijskim vrijednostima: {np.abs(gval - g_t_zero)}\")\n",
    "print(f\"Bolje rješenje? {better}\")\n",
    "print(\"\\n\\n\")\n",
    "\n",
    "root_result = root_scalar(g, method=\"secant\", x0=t0, x1=t1)\n",
    "gval = g(root_result.root)\n",
    "better = \"DA\" if gval<g_t_zero else \"NE\"\n",
    "print(\"Metoda sekante (scipy implementacija)\")\n",
    "print(f\"Broj iteracija: {root_result.iterations}\")\n",
    "print(f\"Nultočka: {root_result.root}\")\n",
    "print(f\"Iznos funkcije: {gval}\")\n",
    "print(f\"Razlika u funkcijskim vrijednostima: {np.abs(gval - g_t_zero)}\")\n",
    "print(f\"Bolje rješenje? {better}\")\n",
    "print(\"\\n\\n\")"
   ]
  },
  {
   "cell_type": "markdown",
   "metadata": {},
   "source": [
    "e) Upotrijebite neku od funkcija iz SciPy biblioteke, poput [link1](https://docs.scipy.org/doc/scipy/reference/generated/scipy.optimize.fsolve.html#scipy.optimize.fsolve)  ili [link2](https://docs.scipy.org/doc/scipy/reference/generated/scipy.optimize.broyden1.html#scipy.optimize.broyden1) da pronađete rješenje 2 točke u kojima se kružnice\n",
    "$$(x-2)^2+y^2=4$$\n",
    "$$x^2+(y-3)^2=4$$\n",
    "sijeku. Iz skice procijenite koje bi mogle biti pogodne početne iteracije da dobijete svaku od tih točaka."
   ]
  },
  {
   "attachments": {},
   "cell_type": "markdown",
   "metadata": {},
   "source": [
    "Iz skice se vidi da je početna iteracija $\\mathbf{x}_0 = (x_0, y_0) = (0, 1)$ dobar izbor za pronalazak prvog sjecišta, dok za drugo sjecište dobar izbor je početna iteracija $\\mathbf{x}_0 = (2, 2)$."
   ]
  },
  {
   "cell_type": "code",
   "execution_count": 5,
   "metadata": {},
   "outputs": [
    {
     "name": "stdout",
     "output_type": "stream",
     "text": [
      "Prvo rješenje:\tx = 0.27942330787710773\ty = 1.0196155385847383\n",
      "Drugo rješenje:\tx = 1.720576692122892\ty = 1.9803844614152615\n"
     ]
    }
   ],
   "source": [
    "# kod\n",
    "def F(x):\n",
    "    sumsq = x[0]*x[0] + x[1]*x[1]\n",
    "    return [sumsq - 4*x[0], sumsq - 6*x[1] + 5]\n",
    "\n",
    "def Jacobian_F(x):\n",
    "    return [\n",
    "        [2*x[0]-4, 2*x[1]],\n",
    "        [2*x[0]  , 2*x[1]-6]\n",
    "    ]\n",
    "\n",
    "root1=scipy.optimize.fsolve(F, x0=[0,1], fprime=Jacobian_F)\n",
    "root2=scipy.optimize.fsolve(F, x0=[2,2], fprime=Jacobian_F)\n",
    "\n",
    "print(f\"Prvo rješenje:\\tx = {root1[0]}\\ty = {root1[1]}\")\n",
    "print(f\"Drugo rješenje:\\tx = {root2[0]}\\ty = {root2[1]}\")\n"
   ]
  }
 ],
 "metadata": {
  "kernelspec": {
   "display_name": "Python 3",
   "language": "python",
   "name": "python3"
  },
  "language_info": {
   "codemirror_mode": {
    "name": "ipython",
    "version": 3
   },
   "file_extension": ".py",
   "mimetype": "text/x-python",
   "name": "python",
   "nbconvert_exporter": "python",
   "pygments_lexer": "ipython3",
   "version": "3.8.6"
  },
  "vscode": {
   "interpreter": {
    "hash": "8ad5edc9ae301be739873ff51ef382dc8f55f4689e49f1770db26a5fdd5f0f90"
   }
  }
 },
 "nbformat": 4,
 "nbformat_minor": 2
}
